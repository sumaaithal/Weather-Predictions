{
 "cells": [
  {
   "cell_type": "code",
   "execution_count": 57,
   "id": "770ac7dc",
   "metadata": {},
   "outputs": [],
   "source": [
    "import pandas as pd\n",
    "import matplotlib.pyplot as plt\n",
    "import numpy as np\n",
    "from sklearn.linear_model import LinearRegression\n",
    "\n",
    "import math"
   ]
  },
  {
   "cell_type": "code",
   "execution_count": 3,
   "id": "8cbdb474",
   "metadata": {},
   "outputs": [],
   "source": [
    "#load the dataset\n",
    "weather = pd.read_csv(\"data/weather.csv\",index_col='DATE')"
   ]
  },
  {
   "cell_type": "code",
   "execution_count": 4,
   "id": "429d7797",
   "metadata": {},
   "outputs": [
    {
     "data": {
      "text/html": [
       "<div>\n",
       "<style scoped>\n",
       "    .dataframe tbody tr th:only-of-type {\n",
       "        vertical-align: middle;\n",
       "    }\n",
       "\n",
       "    .dataframe tbody tr th {\n",
       "        vertical-align: top;\n",
       "    }\n",
       "\n",
       "    .dataframe thead th {\n",
       "        text-align: right;\n",
       "    }\n",
       "</style>\n",
       "<table border=\"1\" class=\"dataframe\">\n",
       "  <thead>\n",
       "    <tr style=\"text-align: right;\">\n",
       "      <th></th>\n",
       "      <th>TMAX</th>\n",
       "      <th>TMIN</th>\n",
       "      <th>PRCP</th>\n",
       "    </tr>\n",
       "    <tr>\n",
       "      <th>DATE</th>\n",
       "      <th></th>\n",
       "      <th></th>\n",
       "      <th></th>\n",
       "    </tr>\n",
       "  </thead>\n",
       "  <tbody>\n",
       "    <tr>\n",
       "      <th>1970-01-01</th>\n",
       "      <td>28</td>\n",
       "      <td>22</td>\n",
       "      <td>0.00</td>\n",
       "    </tr>\n",
       "    <tr>\n",
       "      <th>1970-01-02</th>\n",
       "      <td>31</td>\n",
       "      <td>22</td>\n",
       "      <td>0.00</td>\n",
       "    </tr>\n",
       "    <tr>\n",
       "      <th>1970-01-03</th>\n",
       "      <td>38</td>\n",
       "      <td>25</td>\n",
       "      <td>0.02</td>\n",
       "    </tr>\n",
       "    <tr>\n",
       "      <th>1970-01-04</th>\n",
       "      <td>31</td>\n",
       "      <td>23</td>\n",
       "      <td>0.00</td>\n",
       "    </tr>\n",
       "    <tr>\n",
       "      <th>1970-01-05</th>\n",
       "      <td>35</td>\n",
       "      <td>21</td>\n",
       "      <td>0.00</td>\n",
       "    </tr>\n",
       "  </tbody>\n",
       "</table>\n",
       "</div>"
      ],
      "text/plain": [
       "            TMAX  TMIN  PRCP\n",
       "DATE                        \n",
       "1970-01-01    28    22  0.00\n",
       "1970-01-02    31    22  0.00\n",
       "1970-01-03    38    25  0.02\n",
       "1970-01-04    31    23  0.00\n",
       "1970-01-05    35    21  0.00"
      ]
     },
     "execution_count": 4,
     "metadata": {},
     "output_type": "execute_result"
    }
   ],
   "source": [
    "#select the columns from weather data\n",
    "weather = weather[['TMAX', 'TMIN','PRCP']]\n",
    "weather.head()"
   ]
  },
  {
   "cell_type": "code",
   "execution_count": 17,
   "id": "9f78eb50",
   "metadata": {},
   "outputs": [],
   "source": [
    "#fill all the null values\n",
    "weather = weather.ffill()"
   ]
  },
  {
   "cell_type": "code",
   "execution_count": 18,
   "id": "aa367d69",
   "metadata": {},
   "outputs": [
    {
     "name": "stdout",
     "output_type": "stream",
     "text": [
      "Index(['tmax', 'tmin', 'prcp', 'tmax_tomorrow'], dtype='object')\n"
     ]
    }
   ],
   "source": [
    "#lower case all the column names\n",
    "weather.columns = weather.columns.str.lower()\n",
    "print(weather.columns)"
   ]
  },
  {
   "cell_type": "code",
   "execution_count": 19,
   "id": "96aee137",
   "metadata": {},
   "outputs": [
    {
     "data": {
      "text/html": [
       "<div>\n",
       "<style scoped>\n",
       "    .dataframe tbody tr th:only-of-type {\n",
       "        vertical-align: middle;\n",
       "    }\n",
       "\n",
       "    .dataframe tbody tr th {\n",
       "        vertical-align: top;\n",
       "    }\n",
       "\n",
       "    .dataframe thead th {\n",
       "        text-align: right;\n",
       "    }\n",
       "</style>\n",
       "<table border=\"1\" class=\"dataframe\">\n",
       "  <thead>\n",
       "    <tr style=\"text-align: right;\">\n",
       "      <th></th>\n",
       "      <th>tmax</th>\n",
       "      <th>tmin</th>\n",
       "      <th>prcp</th>\n",
       "      <th>tmax_tomorrow</th>\n",
       "    </tr>\n",
       "    <tr>\n",
       "      <th>DATE</th>\n",
       "      <th></th>\n",
       "      <th></th>\n",
       "      <th></th>\n",
       "      <th></th>\n",
       "    </tr>\n",
       "  </thead>\n",
       "  <tbody>\n",
       "    <tr>\n",
       "      <th>1970-01-01</th>\n",
       "      <td>28</td>\n",
       "      <td>22</td>\n",
       "      <td>0.00</td>\n",
       "      <td>31.0</td>\n",
       "    </tr>\n",
       "    <tr>\n",
       "      <th>1970-01-02</th>\n",
       "      <td>31</td>\n",
       "      <td>22</td>\n",
       "      <td>0.00</td>\n",
       "      <td>38.0</td>\n",
       "    </tr>\n",
       "    <tr>\n",
       "      <th>1970-01-03</th>\n",
       "      <td>38</td>\n",
       "      <td>25</td>\n",
       "      <td>0.02</td>\n",
       "      <td>31.0</td>\n",
       "    </tr>\n",
       "    <tr>\n",
       "      <th>1970-01-04</th>\n",
       "      <td>31</td>\n",
       "      <td>23</td>\n",
       "      <td>0.00</td>\n",
       "      <td>35.0</td>\n",
       "    </tr>\n",
       "    <tr>\n",
       "      <th>1970-01-05</th>\n",
       "      <td>35</td>\n",
       "      <td>21</td>\n",
       "      <td>0.00</td>\n",
       "      <td>36.0</td>\n",
       "    </tr>\n",
       "  </tbody>\n",
       "</table>\n",
       "</div>"
      ],
      "text/plain": [
       "            tmax  tmin  prcp  tmax_tomorrow\n",
       "DATE                                       \n",
       "1970-01-01    28    22  0.00           31.0\n",
       "1970-01-02    31    22  0.00           38.0\n",
       "1970-01-03    38    25  0.02           31.0\n",
       "1970-01-04    31    23  0.00           35.0\n",
       "1970-01-05    35    21  0.00           36.0"
      ]
     },
     "execution_count": 19,
     "metadata": {},
     "output_type": "execute_result"
    }
   ],
   "source": [
    "#create a tmax_tomorrow\n",
    "weather['tmax_tomorrow'] = weather.shift(-1)[\"tmax\"]\n",
    "weather.head()"
   ]
  },
  {
   "cell_type": "code",
   "execution_count": 9,
   "id": "e4463fb9",
   "metadata": {},
   "outputs": [
    {
     "data": {
      "text/plain": [
       "(19289, 4)"
      ]
     },
     "execution_count": 9,
     "metadata": {},
     "output_type": "execute_result"
    }
   ],
   "source": [
    "weather.shape"
   ]
  },
  {
   "cell_type": "code",
   "execution_count": 23,
   "id": "50caac7a",
   "metadata": {},
   "outputs": [],
   "source": [
    "#fill all the null values\n",
    "weather = weather.ffill()"
   ]
  },
  {
   "cell_type": "code",
   "execution_count": 24,
   "id": "cb7a4f78",
   "metadata": {},
   "outputs": [
    {
     "data": {
      "text/plain": [
       "[<matplotlib.lines.Line2D at 0x1cf0143afa0>]"
      ]
     },
     "execution_count": 24,
     "metadata": {},
     "output_type": "execute_result"
    },
    {
     "data": {
      "image/png": "[encoded data removed]",
      "text/plain": [
       "<Figure size 432x288 with 1 Axes>"
      ]
     },
     "metadata": {
      "needs_background": "light"
     },
     "output_type": "display_data"
    }
   ],
   "source": [
    "#plotting the columns\n",
    "weather.plot.scatter(\"tmax\",\"tmax_tomorrow\")\n",
    "plt.plot([30,120],[30,120],color='green')"
   ]
  },
  {
   "cell_type": "markdown",
   "id": "721af721",
   "metadata": {},
   "source": [
    "$\\hat{y} = w_{1}*x_{1} + b$\n",
    "\n",
    "$\\hat{y} = w_{1}*x_{1} + w_{2}*x_{2}+ b$"
   ]
  },
  {
   "cell_type": "code",
   "execution_count": null,
   "id": "cbcfae2e",
   "metadata": {},
   "outputs": [],
   "source": [
    "#linear regression"
   ]
  },
  {
   "cell_type": "code",
   "execution_count": 25,
   "id": "20736650",
   "metadata": {},
   "outputs": [
    {
     "data": {
      "text/plain": [
       "LinearRegression()"
      ]
     },
     "execution_count": 25,
     "metadata": {},
     "output_type": "execute_result"
    }
   ],
   "source": [
    "lr = LinearRegression()\n",
    "lr.fit(weather[['tmax']],weather['tmax_tomorrow'])"
   ]
  },
  {
   "cell_type": "code",
   "execution_count": 28,
   "id": "5766b263",
   "metadata": {},
   "outputs": [
    {
     "data": {
      "text/plain": [
       "[<matplotlib.lines.Line2D at 0x1cf018cf2e0>]"
      ]
     },
     "execution_count": 28,
     "metadata": {},
     "output_type": "execute_result"
    },
    {
     "data": {
      "image/png": "[encoded data removed]",
      "text/plain": [
       "<Figure size 432x288 with 1 Axes>"
      ]
     },
     "metadata": {
      "needs_background": "light"
     },
     "output_type": "display_data"
    }
   ],
   "source": [
    "#plotting the data\n",
    "weather.plot.scatter('tmax','tmax_tomorrow')\n",
    "plt.plot(weather['tmax'],lr.predict(weather[['tmax']]),'green')"
   ]
  },
  {
   "cell_type": "code",
   "execution_count": 30,
   "id": "f7a3e536",
   "metadata": {},
   "outputs": [
    {
     "data": {
      "text/plain": [
       "(array([0.915205]), 5.243755513511715)"
      ]
     },
     "execution_count": 30,
     "metadata": {},
     "output_type": "execute_result"
    }
   ],
   "source": [
    "lr.coef_,lr.intercept_"
   ]
  },
  {
   "cell_type": "code",
   "execution_count": 31,
   "id": "8a17baba",
   "metadata": {},
   "outputs": [
    {
     "data": {
      "text/plain": [
       "78.46015551351172"
      ]
     },
     "execution_count": 31,
     "metadata": {},
     "output_type": "execute_result"
    }
   ],
   "source": [
    "0.915205*80+5.243755513511715"
   ]
  },
  {
   "cell_type": "code",
   "execution_count": 39,
   "id": "580058ab",
   "metadata": {},
   "outputs": [
    {
     "data": {
      "text/plain": [
       "[<matplotlib.lines.Line2D at 0x1cf02954940>]"
      ]
     },
     "execution_count": 39,
     "metadata": {},
     "output_type": "execute_result"
    },
    {
     "data": {
      "image/png": "[encoded data removed]",
      "text/plain": [
       "<Figure size 432x288 with 1 Axes>"
      ]
     },
     "metadata": {
      "needs_background": "light"
     },
     "output_type": "display_data"
    }
   ],
   "source": [
    "#loss function\n",
    "loss = lambda w,y: ((w*70+5.243)-y)**2\n",
    "y = 81\n",
    "\n",
    "ws = np.arange(-1,3,.1)\n",
    "losses = loss(ws,y)\n",
    "\n",
    "plt.scatter(ws,losses)\n",
    "plt.plot(1,loss(1,y),'ro')"
   ]
  },
  {
   "cell_type": "code",
   "execution_count": 41,
   "id": "f94bf2d4",
   "metadata": {},
   "outputs": [
    {
     "data": {
      "text/plain": [
       "[<matplotlib.lines.Line2D at 0x1cf01a09c40>]"
      ]
     },
     "execution_count": 41,
     "metadata": {},
     "output_type": "execute_result"
    },
    {
     "data": {
      "image/png": "[encoded data removed]",
      "text/plain": [
       "<Figure size 432x288 with 1 Axes>"
      ]
     },
     "metadata": {
      "needs_background": "light"
     },
     "output_type": "display_data"
    }
   ],
   "source": [
    "#gradient\n",
    "gradient = lambda w,y: ((w*70+5.243)-y)*2\n",
    "gradients = gradient(ws,y)\n",
    "\n",
    "plt.scatter(ws,gradients)\n",
    "plt.plot(1,gradient(1,y),'ro')"
   ]
  },
  {
   "cell_type": "code",
   "execution_count": 43,
   "id": "7ed8f655",
   "metadata": {},
   "outputs": [
    {
     "data": {
      "text/plain": [
       "[<matplotlib.lines.Line2D at 0x1cf02896880>]"
      ]
     },
     "execution_count": 43,
     "metadata": {},
     "output_type": "execute_result"
    },
    {
     "data": {
      "image/png": "[encoded data removed]",
      "text/plain": [
       "<Figure size 432x288 with 1 Axes>"
      ]
     },
     "metadata": {
      "needs_background": "light"
     },
     "output_type": "display_data"
    }
   ],
   "source": [
    "#backpropagation\n",
    "ws = np.arange(-4000,100,100)\n",
    "losses = loss(ws,y)\n",
    "\n",
    "plt.scatter(ws,losses)\n",
    "\n",
    "plt.plot(1,loss(1,y),'ro')\n",
    "new_weight = 1 - gradient(1,y)*70\n",
    "\n",
    "plt.plot(new_weight,loss(new_weight,y),'go')"
   ]
  },
  {
   "cell_type": "code",
   "execution_count": 44,
   "id": "b7f45de6",
   "metadata": {},
   "outputs": [
    {
     "data": {
      "text/plain": [
       "[<matplotlib.lines.Line2D at 0x1cf02040310>]"
      ]
     },
     "execution_count": 44,
     "metadata": {},
     "output_type": "execute_result"
    },
    {
     "data": {
      "image/png": "[encoded data removed]",
      "text/plain": [
       "<Figure size 432x288 with 1 Axes>"
      ]
     },
     "metadata": {
      "needs_background": "light"
     },
     "output_type": "display_data"
    }
   ],
   "source": [
    "#backpropagation\n",
    "ws = np.arange(-4000,100,100)\n",
    "gradients = gradient(ws,y)\n",
    "\n",
    "plt.scatter(ws,gradients)\n",
    "\n",
    "plt.plot(1,gradient(1,y),'ro')\n",
    "#new_weight = 1 - gradient(1,y)*70\n",
    "\n",
    "plt.plot(new_weight,loss(new_weight,y),'go')"
   ]
  },
  {
   "cell_type": "code",
   "execution_count": 48,
   "id": "1fdd6ecc",
   "metadata": {},
   "outputs": [
    {
     "data": {
      "text/plain": [
       "[<matplotlib.lines.Line2D at 0x1cf019a3610>]"
      ]
     },
     "execution_count": 48,
     "metadata": {},
     "output_type": "execute_result"
    },
    {
     "data": {
      "image/png": "[encoded data removed]",
      "text/plain": [
       "<Figure size 432x288 with 1 Axes>"
      ]
     },
     "metadata": {
      "needs_background": "light"
     },
     "output_type": "display_data"
    }
   ],
   "source": [
    "ws = np.arange(-.5,1.5,.1)\n",
    "\n",
    "losses = loss(ws,y)\n",
    "plt.scatter(ws,losses)\n",
    "\n",
    "plt.plot(1,loss(1,y),'ro')\n",
    "\n",
    "lr = 5e-5\n",
    "\n",
    "new_weight =  1 - lr* gradient(1,y)*80\n",
    "\n",
    "plt.plot(new_weight,loss(new_weight,y),'go')"
   ]
  },
  {
   "cell_type": "code",
   "execution_count": 49,
   "id": "3bd522d7",
   "metadata": {},
   "outputs": [
    {
     "data": {
      "text/plain": [
       "1.046056"
      ]
     },
     "execution_count": 49,
     "metadata": {},
     "output_type": "execute_result"
    }
   ],
   "source": [
    "new_weight"
   ]
  },
  {
   "cell_type": "code",
   "execution_count": 63,
   "id": "af7ac650",
   "metadata": {},
   "outputs": [],
   "source": [
    "## predictors and target\n",
    "PREDICTORS = [\"tmax\",\"tmin\",\"prcp\"]\n",
    "TARGET = \"tmax_tomorrow\""
   ]
  },
  {
   "cell_type": "code",
   "execution_count": 64,
   "id": "bd5f77f6",
   "metadata": {},
   "outputs": [],
   "source": [
    "#splitting the data into training, validating and testing\n",
    "np.random.seed(0) #so that we could reproduce the same dataset again and again\n",
    "\n",
    "split_data = np.split(weather, [int(.7 * len(weather)), int(.85*len(weather)) ])\n",
    "\n",
    "(train_x,train_y),(validate_x,validate_y),(test_x,test_y) = [ [ d[PREDICTORS].to_numpy() ,d[[TARGET]].to_numpy() ] for d in split_data]"
   ]
  },
  {
   "cell_type": "code",
   "execution_count": 90,
   "id": "027d9ba5",
   "metadata": {},
   "outputs": [],
   "source": [
    "def init_params(predictors):\n",
    "    np.random.seed(0)\n",
    "    weights = np.random.rand(predictors,1) #initialize between 0 and 1\n",
    "    \n",
    "    biases = np.ones((1,1)) #more biases to predict multiple targets but in here its just one target\n",
    "    \n",
    "    return [weights,biases] "
   ]
  },
  {
   "cell_type": "code",
   "execution_count": 91,
   "id": "1d7c6a27",
   "metadata": {},
   "outputs": [
    {
     "data": {
      "text/plain": [
       "[array([[0.5488135 ],\n",
       "        [0.71518937],\n",
       "        [0.60276338]]),\n",
       " array([[1.]])]"
      ]
     },
     "execution_count": 91,
     "metadata": {},
     "output_type": "execute_result"
    }
   ],
   "source": [
    "init_params(3)"
   ]
  },
  {
   "cell_type": "code",
   "execution_count": 93,
   "id": "a6dc7beb",
   "metadata": {},
   "outputs": [],
   "source": [
    "def forward_pass(params,x):\n",
    "    #make predictions using weights and biases\n",
    "    weights,biases = params\n",
    "    \n",
    "    # w1*tmax + w2*tmin + w3*rain + b\n",
    "    \n",
    "    predictions = x @ weights + biases #@ matrix multiplication  \n",
    "    \n",
    "    return predictions"
   ]
  },
  {
   "cell_type": "code",
   "execution_count": 94,
   "id": "f1f689e6",
   "metadata": {},
   "outputs": [],
   "source": [
    "def mse(actual,predicted):\n",
    "    return np.mean((actual - predicted)**2)\n",
    "\n",
    "def mse_gradient(actual,predicted):\n",
    "    return (predicted - actual)  #returns one error per row\n",
    "    #actual derivative of mse is 2(actual - predicted)but its easier to get the gradient if not * by 2"
   ]
  },
  {
   "cell_type": "code",
   "execution_count": 95,
   "id": "4d9fdefa",
   "metadata": {},
   "outputs": [],
   "source": [
    "def backward_pass(params ,x, lr, grad):\n",
    "    #x1*grad, x2*grad, .. \n",
    "    w_grad = (x.T / x.shape[0]) @ grad \n",
    "    #x.shape[0] because of batch gradient descent cause we want to average the grad of entire data\n",
    "    \n",
    "    b_grad = np.mean(grad,axis=0)\n",
    "    \n",
    "    params[0] -= w_grad * lr\n",
    "    params[1] -= b_grad * lr\n",
    "    \n",
    "    return params"
   ]
  },
  {
   "cell_type": "code",
   "execution_count": 96,
   "id": "628cf8cc",
   "metadata": {},
   "outputs": [
    {
     "name": "stdout",
     "output_type": "stream",
     "text": [
      "Epoch 0 loss: 56.38613283392072\n",
      "Epoch 10 loss: 48.77841359874928\n",
      "Epoch 20 loss: 48.67109023887324\n",
      "Epoch 30 loss: 48.567339060922954\n",
      "Epoch 40 loss: 48.467059321470245\n",
      "Epoch 50 loss: 48.370132654930885\n",
      "Epoch 60 loss: 48.27644476160176\n",
      "Epoch 70 loss: 48.185885267941956\n",
      "Epoch 80 loss: 48.09834759117967\n",
      "Epoch 90 loss: 48.013728808597705\n"
     ]
    }
   ],
   "source": [
    "lr = 1e-4\n",
    "epochs = 100 #each time data is passed into the algorith\n",
    "\n",
    "params = init_params(train_x.shape[1])\n",
    "\n",
    "\n",
    "for i in range(epochs):\n",
    "    predictions = forward_pass(params,train_x)\n",
    "    \n",
    "    grad = mse_gradient(train_y,predictions)\n",
    "    \n",
    "    params = backward_pass(params, train_x, lr, grad)\n",
    "    \n",
    "    if i%10 == 0:\n",
    "        predictions = forward_pass(params,validate_x)\n",
    "        val_loss = mse(validate_y,predictions)\n",
    "        \n",
    "        print(f\"Epoch {i} loss: {val_loss}\")"
   ]
  },
  {
   "cell_type": "code",
   "execution_count": 97,
   "id": "1bd0343d",
   "metadata": {},
   "outputs": [
    {
     "data": {
      "text/plain": [
       "[array([[0.51004372],\n",
       "        [0.59893852],\n",
       "        [0.60098216]]),\n",
       " array([[1.00618176]])]"
      ]
     },
     "execution_count": 97,
     "metadata": {},
     "output_type": "execute_result"
    }
   ],
   "source": [
    "params"
   ]
  }
 ],
 "metadata": {
  "kernelspec": {
   "display_name": "Python 3 (ipykernel)",
   "language": "python",
   "name": "python3"
  },
  "language_info": {
   "codemirror_mode": {
    "name": "ipython",
    "version": 3
   },
   "file_extension": ".py",
   "mimetype": "text/x-python",
   "name": "python",
   "nbconvert_exporter": "python",
   "pygments_lexer": "ipython3",
   "version": "3.9.12"
  }
 },
 "nbformat": 4,
 "nbformat_minor": 5
}
